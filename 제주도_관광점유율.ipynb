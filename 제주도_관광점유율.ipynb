{
  "nbformat": 4,
  "nbformat_minor": 0,
  "metadata": {
    "colab": {
      "provenance": [],
      "authorship_tag": "ABX9TyOIhe4kHO3TEhwIkU1mxVGf",
      "include_colab_link": true
    },
    "kernelspec": {
      "name": "python3",
      "display_name": "Python 3"
    },
    "language_info": {
      "name": "python"
    }
  },
  "cells": [
    {
      "cell_type": "markdown",
      "metadata": {
        "id": "view-in-github",
        "colab_type": "text"
      },
      "source": [
        "<a href=\"https://colab.research.google.com/github/jeyoung-hwang/oss25/blob/main/%EC%A0%9C%EC%A3%BC%EB%8F%84_%EA%B4%80%EA%B4%91%EC%A0%90%EC%9C%A0%EC%9C%A8.ipynb\" target=\"_parent\"><img src=\"https://colab.research.google.com/assets/colab-badge.svg\" alt=\"Open In Colab\"/></a>"
      ]
    },
    {
      "cell_type": "code",
      "execution_count": 3,
      "metadata": {
        "colab": {
          "base_uri": "https://localhost:8080/",
          "height": 106
        },
        "id": "0k7q6vylP7S1",
        "outputId": "2632cc45-d1b1-4bbe-a12e-a747fb6fcfd9"
      },
      "outputs": [
        {
          "output_type": "error",
          "ename": "IndentationError",
          "evalue": "expected an indented block after 'elif' statement on line 54 (<ipython-input-3-1c1674947ced>, line 55)",
          "traceback": [
            "\u001b[0;36m  File \u001b[0;32m\"<ipython-input-3-1c1674947ced>\"\u001b[0;36m, line \u001b[0;32m55\u001b[0m\n\u001b[0;31m    results\u001b[0m\n\u001b[0m    ^\u001b[0m\n\u001b[0;31mIndentationError\u001b[0m\u001b[0;31m:\u001b[0m expected an indented block after 'elif' statement on line 54\n"
          ]
        }
      ],
      "source": [
        "# prompt: /content/15007317.xml 이 데이터를 기반으로 제주도 관광 점유율을 정리해줘.\n",
        "\n",
        "import xml.etree.ElementTree as ET\n",
        "\n",
        "def analyze_jeju_tourism(xml_filepath):\n",
        "    \"\"\"\n",
        "    Analyzes the provided XML file to determine Jeju tourism occupancy rates.\n",
        "\n",
        "    Args:\n",
        "        xml_filepath: The path to the XML file.\n",
        "\n",
        "    Returns:\n",
        "        A dictionary containing the occupancy rates.  Returns an error message\n",
        "        if the file is not found or if there's an issue parsing the data.\n",
        "    \"\"\"\n",
        "    try:\n",
        "        tree = ET.parse(xml_filepath)\n",
        "        root = tree.getroot()\n",
        "\n",
        "        #  Adapt the XPath expressions below to match the actual structure of your XML file\n",
        "        occupancy_data = {}\n",
        "\n",
        "        # Example: Assuming the XML has elements like <TouristSpot> with <Name> and <OccupancyRate>\n",
        "        for spot in root.findall(\".//TouristSpot\"): # Replace .//TouristSpot with the correct path\n",
        "            name = spot.find(\"Name\").text  # Replace Name with the correct tag\n",
        "            occupancy = spot.find(\"OccupancyRate\").text # Replace OccupancyRate with the correct tag\n",
        "\n",
        "            if name and occupancy:  # Handle cases where data might be missing\n",
        "                try:\n",
        "                    occupancy_data[name] = float(occupancy)\n",
        "                except ValueError:  # Handle cases where OccupancyRate isn't a number\n",
        "                    print(f\"Warning: Invalid occupancy rate for {name}. Skipping.\")\n",
        "                    continue\n",
        "\n",
        "\n",
        "        return occupancy_data\n",
        "\n",
        "    except FileNotFoundError:\n",
        "        return \"Error: XML file not found.\"\n",
        "    except ET.ParseError:\n",
        "        return \"Error: Invalid XML file format.\"\n",
        "    except Exception as e:\n",
        "        return f\"An unexpected error occurred: {e}\"\n",
        "\n",
        "\n",
        "# Example usage:\n",
        "filepath = \"/content/15007317.xml\"\n",
        "results = analyze_jeju_tourism(filepath)\n",
        "\n",
        "if isinstance(results, dict):\n",
        "    print(\"Jeju Tourism Occupancy:\")\n",
        "    for spot, rate in results.items():\n",
        "        print(f\"{spot}: {rate:.2f}%\")  # Display occupancy with 2 decimal places\n",
        "elif isinstance(results, str):\n",
        "results\n"
      ]
    }
  ]
}